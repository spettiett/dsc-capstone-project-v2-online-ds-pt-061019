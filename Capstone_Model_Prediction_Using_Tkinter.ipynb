{
 "cells": [
  {
   "cell_type": "markdown",
   "metadata": {},
   "source": [
    "##  Part V: GUI (Demo) - Model Predictions | Jupyter Notebook"
   ]
  },
  {
   "cell_type": "markdown",
   "metadata": {},
   "source": [
    "## Final Project Submission\n",
    "\n",
    "Please fill out:\n",
    "* __Student name:__ Sharonda Pettiett-Warner\n",
    "* __Student pace:__ part time - PT_0610\n",
    "* __Scheduled project review date/time:__ April 24, 2020\n",
    "* __Instructor name:__ Eli Thomas"
   ]
  },
  {
   "cell_type": "markdown",
   "metadata": {},
   "source": [
    "## Goal\n",
    "\n",
    "> To create a user interface (UI) using Tkinter __demonstrating__ how to capture input parameters for a hotel reservation.\n",
    "- The input data will be used by the model to provide the user with a prediction as either __Booked__ or __Canceled__ along with the prediction __Probability__.\n"
   ]
  },
  {
   "cell_type": "markdown",
   "metadata": {},
   "source": [
    "# Begin Study\n",
    "> In this notebook I will build a __Graphical User Interface (GUI)__ to capture user input related to hotel booking key features to perform a prediction as either Booked or Canceled along with the prediction Probability.  The objective is to predict if hotel booking will be canceled based on hotel and user attributes collected from the user."
   ]
  },
  {
   "cell_type": "code",
   "execution_count": 1,
   "metadata": {
    "ExecuteTime": {
     "end_time": "2020-04-22T15:45:39.590308Z",
     "start_time": "2020-04-22T15:45:39.583307Z"
    }
   },
   "outputs": [],
   "source": [
    "import datetime\n",
    "start = datetime.datetime.now()"
   ]
  },
  {
   "cell_type": "markdown",
   "metadata": {},
   "source": [
    "# Import Libraries"
   ]
  },
  {
   "cell_type": "code",
   "execution_count": 2,
   "metadata": {
    "ExecuteTime": {
     "end_time": "2020-04-22T15:45:42.420349Z",
     "start_time": "2020-04-22T15:45:39.594317Z"
    }
   },
   "outputs": [],
   "source": [
    "import numpy as np \n",
    "import pandas as pd \n",
    "\n",
    "from sklearn.linear_model import LogisticRegression\n",
    "from sklearn.naive_bayes import GaussianNB\n",
    "from sklearn.tree import DecisionTreeClassifier\n",
    "from sklearn.ensemble import RandomForestClassifier\n",
    "from sklearn.neighbors import KNeighborsClassifier\n",
    "from sklearn.discriminant_analysis import LinearDiscriminantAnalysis\n",
    "from sklearn.svm import SVC\n",
    "from sklearn.ensemble import AdaBoostClassifier, GradientBoostingClassifier\n",
    "from xgboost import XGBClassifier\n",
    "\n",
    "import seaborn as sns\n",
    "import matplotlib.pyplot as plt\n",
    "%matplotlib inline\n",
    "sns.set(style=\"whitegrid\")\n",
    "\n",
    "import tkinter as tk\n",
    "from tkinter import ttk\n",
    "\n",
    "import warnings\n",
    "warnings.filterwarnings('ignore')"
   ]
  },
  {
   "cell_type": "markdown",
   "metadata": {},
   "source": [
    "# Define Functions"
   ]
  },
  {
   "cell_type": "markdown",
   "metadata": {},
   "source": [
    "#### def printData(leadTime, country, custType, mktSeg)\n",
    "- Function to print data"
   ]
  },
  {
   "cell_type": "code",
   "execution_count": 3,
   "metadata": {
    "ExecuteTime": {
     "end_time": "2020-04-22T15:45:42.429311Z",
     "start_time": "2020-04-22T15:45:42.424312Z"
    }
   },
   "outputs": [],
   "source": [
    "def printData(leadTime, country, custType, mktSeg):\n",
    "    ' Function to print data'\n",
    "    print(f'Lead Time:  {leadTime}')\n",
    "    print(f'Country: {country}')\n",
    "    print(f'Customer Type:  {custType}')\n",
    "    print(f'Market Segment: {mktSeg}')"
   ]
  },
  {
   "cell_type": "markdown",
   "metadata": {},
   "source": [
    "#### def get_input()\n",
    "- Function to get input values and print"
   ]
  },
  {
   "cell_type": "code",
   "execution_count": 4,
   "metadata": {
    "ExecuteTime": {
     "end_time": "2020-04-22T15:45:42.444314Z",
     "start_time": "2020-04-22T15:45:42.435305Z"
    }
   },
   "outputs": [],
   "source": [
    "def get_input():\n",
    "    ' Function to get input values and print'\n",
    "    leadTime = radioValue.get()\n",
    "    country  = comboCountry.get()\n",
    "    custType = comboCustTyp.get()\n",
    "    mktSeg   = comboMktSeg.get()\n",
    "    printData(leadTime, country, custType, mktSeg )"
   ]
  },
  {
   "cell_type": "markdown",
   "metadata": {},
   "source": [
    "#### def get_prediction()\n",
    "- Function to get input values frm GUI and provide prediction and probablity"
   ]
  },
  {
   "cell_type": "code",
   "execution_count": 5,
   "metadata": {
    "ExecuteTime": {
     "end_time": "2020-04-22T15:45:42.481305Z",
     "start_time": "2020-04-22T15:45:42.454306Z"
    }
   },
   "outputs": [],
   "source": [
    "def get_prediction():\n",
    "    ' Function to get input values frm GUI and provide prediction and probablity'\n",
    "    leadTime = radioValue.get()\n",
    "    country  = comboCountry.get()\n",
    "    custType = comboCustTyp.get()\n",
    "    mktSeg   = comboMktSeg.get()\n",
    "    printData(leadTime, country, custType, mktSeg)\n",
    "    \n",
    "    # Default Feature Values:\n",
    "    import_feats_dict = {\n",
    "                        'tp_lead_time' : 7,\n",
    "                        'tp_deposit_type_Non Refund':0, #Pre-paid (yes=1 or no=0)\n",
    "                        'tp_country_PRT': 1,\n",
    "                        'tp_adr': 95.00,\n",
    "                        'tp_total_of_special_requests': 0,\n",
    "                        'tp_arrival_date_day_of_month': 26,\n",
    "                        'tp_agent': 28.0,\n",
    "                        'tp_arrival_date_week_number': 15,  # 27 = July  35= Aug   # 4 = Jan\n",
    "                        'tp_stays_in_week_nights': 2,\n",
    "                        'tp_previous_cancellations': 0,\n",
    "                        'tp_stays_in_weekend_nights': 1,\n",
    "                        'tp_arrival_date_year': 2020,  #2017\n",
    "                        'tp_required_car_parking_spaces':0,\n",
    "                        'tp_market_segment_Online TA': 1,\n",
    "                        'tp_customer_type_Transient': 1}\n",
    "    tp_values = list(import_feats_dict.values())\n",
    "    \n",
    "    # Updated Feature Values from User Input:\n",
    "    \n",
    "    # Customer Type\n",
    "    if (custType == 'Transient'):\n",
    "        custType = 1\n",
    "    else:\n",
    "        custType = 0\n",
    "        \n",
    "    # Market Segment\n",
    "    if (mktSeg == 'Online TA'):\n",
    "        mktSeg = 1\n",
    "    else:\n",
    "        mktSeg = 0\n",
    "        \n",
    "    # Country\n",
    "    if (country == 'PRT'):\n",
    "        country = 1\n",
    "    else:\n",
    "        country = 0\n",
    "        \n",
    "    # Lead Time\n",
    "    if (leadTime == 1):   # 1=This Week\n",
    "        leadTime = 7\n",
    "        adrPricing = 95.00\n",
    "    elif (leadTime == 2): # 2=Next Week\n",
    "        leadTime = 14\n",
    "        adrPricing = 95.00\n",
    "    elif (leadTime == 3): # 3=Next Month\n",
    "        leadTime = 30\n",
    "        adrPricing = 110.00 \n",
    "    elif (leadTime == 4): # 4=6 mos\n",
    "        leadTime = 180\n",
    "        adrPricing = 110.00 \n",
    "    elif (leadTime == 5): # 5=9 mos\n",
    "        leadTime = 275\n",
    "        adrPricing = 90.00\n",
    "    elif (leadTime == 6): # 6=Next Year\n",
    "        leadTime = 365\n",
    "        adrPricing = 85.00\n",
    "    \n",
    "    # Update Features Dictionary with new values:\n",
    "    import_feats_dict.update({'tp_customer_type_Transient': custType,\n",
    "                              'tp_lead_time': leadTime, \n",
    "                              'tp_adr': adrPricing,\n",
    "                              'tp_country_PRT': country,\n",
    "                              'tp_market_segment_Online TA': mktSeg})\n",
    "    tp_values = list(import_feats_dict.values())\n",
    "    print(f'adr: {adrPricing}')\n",
    "    print(tp_values)\n",
    "    \n",
    "    # Single Test Prediction\n",
    "    y_single_pred_ex = model.predict([tp_values]) \n",
    "    display(y_single_pred_ex)\n",
    "\n",
    "    y_single_pred_prob_ex = model.predict_proba([tp_values]) \n",
    "    display(y_single_pred_prob_ex)\n",
    "    \n",
    "    # Display Model Prediction Result\n",
    "    if y_single_pred_ex == 1:\n",
    "        pred_text_val = 'Canceled'\n",
    "    else:\n",
    "        pred_text_val = 'Booked'\n",
    "        \n",
    "    pred_results = 'Model Prediction: {} | Probabilty Stats : {}'.format(pred_text_val, y_single_pred_prob_ex)\n",
    "    print(pred_results)\n",
    "    print('\\n_______________________________________________________')\n",
    "    \n",
    "    w2 = tk.Label(window, \n",
    "                  justify=tk.LEFT, # justify=tk.RIGHT\n",
    "                  font = \"Verdana 8 bold\",\n",
    "                  padx = 10, \n",
    "                  text=pred_results)\n",
    "    w2.grid(column=0, row=40)\n"
   ]
  },
  {
   "cell_type": "markdown",
   "metadata": {},
   "source": [
    "# De-Pickle File\n",
    "> The training model was pickled from __Capstone_ML_Model (Final Prediction)__ jupyter notebook and will be de-pickled in this notebook for use."
   ]
  },
  {
   "cell_type": "code",
   "execution_count": 6,
   "metadata": {
    "ExecuteTime": {
     "end_time": "2020-04-22T15:45:43.902301Z",
     "start_time": "2020-04-22T15:45:42.486310Z"
    }
   },
   "outputs": [],
   "source": [
    "# De-serialize the training model object - RandomForestClf()\n",
    "import pickle\n",
    "clf_file = open('./Pickle_Files/RandomForestClf.pickle', 'rb')\n",
    "model = pickle.load(clf_file)\n",
    "clf_file.close()"
   ]
  },
  {
   "cell_type": "code",
   "execution_count": 7,
   "metadata": {
    "ExecuteTime": {
     "end_time": "2020-04-22T15:45:44.554721Z",
     "start_time": "2020-04-22T15:45:43.907307Z"
    }
   },
   "outputs": [
    {
     "data": {
      "text/plain": [
       "array([0], dtype=int64)"
      ]
     },
     "metadata": {},
     "output_type": "display_data"
    },
    {
     "data": {
      "text/plain": [
       "array([[0.99403579, 0.00596421]])"
      ]
     },
     "metadata": {},
     "output_type": "display_data"
    }
   ],
   "source": [
    "# Test de-pickle process using data based on rowid- 96734\n",
    "y_single_pred_ex = model.predict([[121,0,0,85.00,0,26,28.0,21,2,0,1,2017,0,0,1]]) \n",
    "display(y_single_pred_ex)\n",
    "\n",
    "y_single_pred_prob_ex = model.predict_proba([[121,0,0,85.00,0,26,28.0,21,2,0,1,2017,0,0,1]]) \n",
    "display(y_single_pred_prob_ex)"
   ]
  },
  {
   "cell_type": "markdown",
   "metadata": {
    "ExecuteTime": {
     "end_time": "2020-03-28T19:23:21.615573Z",
     "start_time": "2020-03-28T19:23:21.610597Z"
    }
   },
   "source": [
    "# Predicton Data"
   ]
  },
  {
   "cell_type": "markdown",
   "metadata": {},
   "source": [
    "> The best model for performing the prediction is using the __RandomForestClf__ as indicated above."
   ]
  },
  {
   "cell_type": "markdown",
   "metadata": {},
   "source": [
    "## Important Features"
   ]
  },
  {
   "cell_type": "markdown",
   "metadata": {},
   "source": [
    "#### The Most Predictive Features\n",
    "From our analysis, we concluded that the most useful features for prediction were the following features (Top 15):\n",
    "\n",
    "- lead_time                        0.116716\n",
    "- deposit_type_Non Refund          0.108665\n",
    "- country_PRT                      0.080293\n",
    "- adr                              0.078294\n",
    "- total_of_special_requests        0.069174\n",
    "- arrival_date_day_of_month        0.056989\n",
    "- agent                            0.051549\n",
    "- arrival_date_week_number         0.048732\n",
    "- stays_in_week_nights             0.037315\n",
    "- previous_cancellations           0.030105\n",
    "- stays_in_weekend_nights          0.025514\n",
    "- arrival_date_year                0.024081\n",
    "- required_car_parking_spaces      0.020868\n",
    "- market_segment_Online TA         0.020407\n",
    "- customer_type_Transient          0.019232"
   ]
  },
  {
   "cell_type": "code",
   "execution_count": 8,
   "metadata": {
    "ExecuteTime": {
     "end_time": "2020-04-22T15:45:44.588680Z",
     "start_time": "2020-04-22T15:45:44.570683Z"
    }
   },
   "outputs": [],
   "source": [
    "# Create dictionary of important features with default values\n",
    "import_feats_dict = {\n",
    "'tp_lead_time' : 7,\n",
    "'tp_deposit_type_Non Refund':0,\n",
    "'tp_country_PRT': 1,\n",
    "'tp_adr': 85.00,\n",
    "'tp_total_of_special_requests': 0,\n",
    "'tp_arrival_date_day_of_month': 26,\n",
    "'t_agent': 28.0,\n",
    "'tp_arrival_date_week_number': 21,\n",
    "'tp_stays_in_week_nights': 2,\n",
    "'tp_previous_cancellations': 0,\n",
    "'tp_stays_in_weekend_nights': 1,\n",
    "'tp_arrival_date_year': 2017,\n",
    "'tp_required_car_parking_spaces':0,\n",
    "'tp_market_segment_Online TA': 1,\n",
    "'tp_customer_type_Transient': 1}"
   ]
  },
  {
   "cell_type": "markdown",
   "metadata": {},
   "source": [
    "## Preview and Test Prediction Data"
   ]
  },
  {
   "cell_type": "code",
   "execution_count": 9,
   "metadata": {
    "ExecuteTime": {
     "end_time": "2020-04-22T15:45:44.609685Z",
     "start_time": "2020-04-22T15:45:44.595677Z"
    }
   },
   "outputs": [
    {
     "data": {
      "text/plain": [
       "[7, 0, 1, 85.0, 0, 26, 28.0, 21, 2, 0, 1, 2017, 0, 1, 1]"
      ]
     },
     "execution_count": 9,
     "metadata": {},
     "output_type": "execute_result"
    }
   ],
   "source": [
    "# Create list of important features values\n",
    "tp_values = list(import_feats_dict.values())\n",
    "tp_values                                       "
   ]
  },
  {
   "cell_type": "code",
   "execution_count": 10,
   "metadata": {
    "ExecuteTime": {
     "end_time": "2020-04-22T15:45:45.246700Z",
     "start_time": "2020-04-22T15:45:44.614680Z"
    }
   },
   "outputs": [
    {
     "data": {
      "text/plain": [
       "array([0], dtype=int64)"
      ]
     },
     "metadata": {},
     "output_type": "display_data"
    },
    {
     "data": {
      "text/plain": [
       "array([[0.72968403, 0.27031597]])"
      ]
     },
     "metadata": {},
     "output_type": "display_data"
    }
   ],
   "source": [
    "# Test Single Prediction\n",
    "y_single_pred_ex = model.predict([tp_values]) \n",
    "display(y_single_pred_ex)\n",
    "\n",
    "y_single_pred_prob_ex = model.predict_proba([tp_values]) \n",
    "display(y_single_pred_prob_ex)"
   ]
  },
  {
   "cell_type": "code",
   "execution_count": 11,
   "metadata": {
    "ExecuteTime": {
     "end_time": "2020-04-22T15:45:45.277680Z",
     "start_time": "2020-04-22T15:45:45.259687Z"
    }
   },
   "outputs": [
    {
     "data": {
      "text/plain": [
       "[7, 0, 1, 185.0, 0, 26, 28.0, 21, 2, 0, 1, 2017, 0, 1, 1]"
      ]
     },
     "execution_count": 11,
     "metadata": {},
     "output_type": "execute_result"
    }
   ],
   "source": [
    "# Update feature dictionary and preview the updates list of values\n",
    "import_feats_dict.update({'tp_country_PRT': 1, 'tp_adr': 185.00}, )\n",
    "tp_values = list(import_feats_dict.values())\n",
    "tp_values"
   ]
  },
  {
   "cell_type": "code",
   "execution_count": 12,
   "metadata": {
    "ExecuteTime": {
     "end_time": "2020-04-22T15:45:45.296677Z",
     "start_time": "2020-04-22T15:45:45.286678Z"
    }
   },
   "outputs": [
    {
     "data": {
      "text/plain": [
       "[121, 0, 1, 185.0, 0, 26, 28.0, 21, 2, 0, 1, 2017, 0, 1, 1]"
      ]
     },
     "execution_count": 12,
     "metadata": {},
     "output_type": "execute_result"
    }
   ],
   "source": [
    "# Create variables and hardcode values to test to updating dictionary using Variables\n",
    "var_country = 1\n",
    "var_leadTime = 121\n",
    "\n",
    "import_feats_dict.update({'tp_adr': 185.00,'tp_lead_time': var_leadTime, 'tp_country_PRT': var_country})\n",
    "tp_values = list(import_feats_dict.values())\n",
    "tp_values"
   ]
  },
  {
   "cell_type": "code",
   "execution_count": 13,
   "metadata": {
    "ExecuteTime": {
     "end_time": "2020-04-22T15:45:45.929675Z",
     "start_time": "2020-04-22T15:45:45.303675Z"
    }
   },
   "outputs": [
    {
     "data": {
      "text/plain": [
       "array([1], dtype=int64)"
      ]
     },
     "metadata": {},
     "output_type": "display_data"
    },
    {
     "data": {
      "text/plain": [
       "array([[0.26490915, 0.73509085]])"
      ]
     },
     "metadata": {},
     "output_type": "display_data"
    }
   ],
   "source": [
    "# Test Single Prediction using variables\n",
    "y_single_pred_ex = model.predict([tp_values]) \n",
    "display(y_single_pred_ex)\n",
    "\n",
    "y_single_pred_prob_ex = model.predict_proba([tp_values]) \n",
    "display(y_single_pred_prob_ex)"
   ]
  },
  {
   "cell_type": "code",
   "execution_count": 14,
   "metadata": {
    "ExecuteTime": {
     "end_time": "2020-04-22T15:45:45.943679Z",
     "start_time": "2020-04-22T15:45:45.933677Z"
    }
   },
   "outputs": [
    {
     "data": {
      "text/plain": [
       "'Model Prediction: Canceled | Probabilty Stats : [[0.26490915 0.73509085]]'"
      ]
     },
     "execution_count": 14,
     "metadata": {},
     "output_type": "execute_result"
    }
   ],
   "source": [
    "# Print Model Prediction Result\n",
    "if y_single_pred_ex == 1:\n",
    "    pred_text_val = 'Canceled'\n",
    "else:\n",
    "    pred_text_val = 'Booked'\n",
    "pred_results = 'Model Prediction: {} | Probabilty Stats : {}'.format(pred_text_val, y_single_pred_prob_ex)\n",
    "pred_results"
   ]
  },
  {
   "cell_type": "markdown",
   "metadata": {},
   "source": [
    "# Tkinter GUI"
   ]
  },
  {
   "cell_type": "markdown",
   "metadata": {},
   "source": [
    "> User Interface to capture input related to prediction variables."
   ]
  },
  {
   "cell_type": "code",
   "execution_count": 15,
   "metadata": {
    "ExecuteTime": {
     "end_time": "2020-04-22T18:03:15.572611Z",
     "start_time": "2020-04-22T15:45:45.949678Z"
    }
   },
   "outputs": [
    {
     "name": "stdout",
     "output_type": "stream",
     "text": [
      "Lead Time:  1\n",
      "Country: PRT\n",
      "Customer Type:  Transient\n",
      "Market Segment: Online TA\n",
      "adr: 95.0\n",
      "[7, 0, 1, 95.0, 0, 26, 28.0, 15, 2, 0, 1, 2020, 0, 1, 1]\n"
     ]
    },
    {
     "data": {
      "text/plain": [
       "array([0], dtype=int64)"
      ]
     },
     "metadata": {},
     "output_type": "display_data"
    },
    {
     "data": {
      "text/plain": [
       "array([[0.70502021, 0.29497979]])"
      ]
     },
     "metadata": {},
     "output_type": "display_data"
    },
    {
     "name": "stdout",
     "output_type": "stream",
     "text": [
      "Model Prediction: Booked | Probabilty Stats : [[0.70502021 0.29497979]]\n",
      "\n",
      "_______________________________________________________\n",
      "Lead Time:  6\n",
      "Country: PRT\n",
      "Customer Type:  Transient\n",
      "Market Segment: Online TA\n",
      "adr: 85.0\n",
      "[365, 0, 1, 85.0, 0, 26, 28.0, 15, 2, 0, 1, 2020, 0, 1, 1]\n"
     ]
    },
    {
     "data": {
      "text/plain": [
       "array([1], dtype=int64)"
      ]
     },
     "metadata": {},
     "output_type": "display_data"
    },
    {
     "data": {
      "text/plain": [
       "array([[0.29699391, 0.70300609]])"
      ]
     },
     "metadata": {},
     "output_type": "display_data"
    },
    {
     "name": "stdout",
     "output_type": "stream",
     "text": [
      "Model Prediction: Canceled | Probabilty Stats : [[0.29699391 0.70300609]]\n",
      "\n",
      "_______________________________________________________\n"
     ]
    }
   ],
   "source": [
    "# Tkinter GUI Layout Components\n",
    "\n",
    "# ---------------------  LAYOUT ---------------------------------------------------------------------------------\n",
    "# Tkinter window -- window = tkinter.Tk()\n",
    "window = tk.Tk()\n",
    "\n",
    "# Set window size\n",
    "window.geometry('850x500')\n",
    "window.title('Model Prediction GUI')\n",
    "\n",
    "\n",
    "# ------ Window Title --------------------------------  \n",
    "label0 = tk.Label(window, text = \"Predict Booking or Cancellation Likelihood\" ,\n",
    "                          font = \"Verdana 10 bold\")\n",
    "label0.grid(column=0, row=0)\n",
    "\n",
    "\n",
    "# ----- Radio Button for Lead Time Input values --------------\n",
    "labelTop0 = tk.Label(window,\n",
    "                    text = '\\nSelect Arrival Timeframe for Reservation:')\n",
    "\n",
    "labelTop0.grid(column=0, row=5)\n",
    "\n",
    "radioValue = tk.IntVar()\n",
    "radioValue.set(1)         # To set default value\n",
    "\n",
    "radio1 = tk.Radiobutton(window, text='This Week \\t(Price: $95/nt)',  \n",
    "                             variable=radioValue, value=1) \n",
    "radio2 = tk.Radiobutton(window, text='Next Week \\t(Price: $95/nt)', \n",
    "                             variable=radioValue, value=2)\n",
    "radio3 = tk.Radiobutton(window, text='Next Month \\t(Price: $110/nt)', \n",
    "                             variable=radioValue, value=3)\n",
    "radio4 = tk.Radiobutton(window, text='Next 6 months \\t(Price: $110/nt)', \n",
    "                             variable=radioValue, value=4) \n",
    "radio5 = tk.Radiobutton(window, text='Next 9 months\\t(Price: $90/nt)',\n",
    "                             variable=radioValue, value=5)\n",
    "radio6 = tk.Radiobutton(window, text='Next Year \\t(Price: $85/nt)',\n",
    "                             variable=radioValue, value=6)\n",
    "\n",
    "radio1.grid(column=0, row=6,columnspan=2,sticky='W')\n",
    "radio2.grid(column=0, row=7,columnspan=2,sticky='W')\n",
    "radio3.grid(column=0, row=8,columnspan=2,sticky='W')\n",
    "radio4.grid(column=0, row=9,columnspan=2,sticky='W')\n",
    "radio5.grid(column=0, row=10,columnspan=2,sticky='W')\n",
    "radio6.grid(column=0, row=11,columnspan=2,sticky='W')\n",
    "\n",
    "# ----- Combobox for Country Input values --------------\n",
    "labelTop1 = tk.Label(window,\n",
    "                    text = 'Select Value for Country:')\n",
    "\n",
    "labelTop1.grid(column=0, row=15)\n",
    "\n",
    "comboCountry = ttk.Combobox(window, \n",
    "                            values=['PRT', 'GBR', 'FRA', 'ESP', 'DEU', 'USA', 'Other'])\n",
    "comboCountry.current(0)\n",
    "comboCountry.grid(column=1, row=15, sticky='W' )\n",
    "\n",
    "\n",
    "# ----- Combobox for Customer Type Input values --------------\n",
    "labelTop2 = tk.Label(window,\n",
    "                    text = 'Select Value for Customer Type:')\n",
    "\n",
    "labelTop2.grid(column=0, row=20)\n",
    "\n",
    "comboCustTyp = ttk.Combobox(window, \n",
    "                            values=['Transient', 'Contract', 'Group', 'Other'])\n",
    "comboCustTyp.current(0)\n",
    "comboCustTyp.grid(column=1, row=20, sticky='W')\n",
    "\n",
    "# ----- Combobox for Market Segment Input values --------------\n",
    "labelTop3 = tk.Label(window,\n",
    "                    text = 'Select Value for Market Channel:')\n",
    "\n",
    "labelTop3.grid(column=0, row=25)\n",
    "\n",
    "comboMktSeg = ttk.Combobox(window, \n",
    "                            values=['Direct', 'Corporate', 'Online TA', 'Offline TA/TO', 'Other'])\n",
    "comboMktSeg.current(2)\n",
    "comboMktSeg.grid(column=1, row=25, sticky='W')\n",
    "\n",
    "# ----------------- Label - Spacing ONLY  --------------\n",
    "\n",
    "labelTop1 = tk.Label(window, text = '\\n')\n",
    "labelTop1.grid(column=0, row=26)\n",
    "\n",
    "# ----------------- Button - Prediction  --------------\n",
    "\n",
    "button1 = tk.Button(window, text = \"Predict\", fg = \"blue\",font = \"Verdana 8 bold\")\n",
    "button1.grid(column=0, row=30)\n",
    "button1.config(command = get_prediction)   # command = get_input\n",
    "\n",
    "# ----------------- Label - Spacing ONLY  --------------\n",
    "\n",
    "labelTop1 = tk.Label(window, text = '\\n\\n')\n",
    "labelTop1.grid(column=0, row=31)\n",
    "\n",
    "# ----------------- Logo --------------\n",
    "# logo = tk.PhotoImage(file=\"./lead_time_distribution-3.gif\", width=400, height=300)\n",
    "\n",
    "# w1 = tk.Label(window, image=logo)\n",
    "# w1.grid(column=1, row = 50)\n",
    "\n",
    "# explanation = \"\"\"At present, only GIF and PPM/PGM\n",
    "# formats are supported, but an interface \n",
    "# exists to allow additional image file\n",
    "# formats to be added easily.\"\"\"\n",
    "\n",
    "# w2 = tk.Label(window, \n",
    "#               justify=tk.LEFT, # justify=tk.RIGHT\n",
    "#               padx = 10, \n",
    "#               text=explanation)\n",
    "# w2.grid(column=0, row=50)\n",
    "\n",
    "window.mainloop()"
   ]
  },
  {
   "cell_type": "markdown",
   "metadata": {},
   "source": [
    "# Conclusions"
   ]
  },
  {
   "cell_type": "markdown",
   "metadata": {},
   "source": [
    "####  Best Performance  Model\n",
    "> __RandomForestClf__ \n",
    "- __Test Accuracy Score: 0.877677  |   Train Accuracy Score: 0.939452__\n",
    "- __Accuracy Score:__ 0.8776766335158249   \n",
    "- __Precision Score:__ 0.8693262411347518  \n",
    "- __roc_auc_score:__ 0.8656552631067826 \n"
   ]
  },
  {
   "cell_type": "markdown",
   "metadata": {},
   "source": [
    "#### Summary of Results"
   ]
  },
  {
   "cell_type": "markdown",
   "metadata": {},
   "source": [
    "> __Prediction using GUI Default Values:__\n",
    "\n",
    "Lead Time:  1\n",
    "\n",
    "Country: PRT\n",
    "\n",
    "Customer Type:  Transient\n",
    "\n",
    "Market Segment: Online TA\n",
    "\n",
    "adr: 95.0\n",
    "\n",
    "[7, 0, 1, 95.0, 0, 26, 28.0, 15, 2, 0, 1, 2017, 0, 1, 1]\n",
    "\n",
    "array([0], dtype=int64)\n",
    "\n",
    "array([[0.70502021, 0.29497979]])\n",
    "\n",
    "__Model Prediction: Booked | Probabilty Stats : [[0.70502021, 0.29497979]]__"
   ]
  },
  {
   "cell_type": "markdown",
   "metadata": {},
   "source": [
    "# Future Work"
   ]
  },
  {
   "cell_type": "markdown",
   "metadata": {
    "ExecuteTime": {
     "end_time": "2020-01-23T15:15:08.006583Z",
     "start_time": "2020-01-23T15:15:07.971580Z"
    }
   },
   "source": [
    "- Consider, further evaluation to address the following:\n",
    "\n",
    "    - Create a GUI to help hotel convert low cancellation probabilities into revenue, by offering suggestions for amenities, price discounts, etc."
   ]
  },
  {
   "cell_type": "markdown",
   "metadata": {},
   "source": [
    "# Notes"
   ]
  },
  {
   "cell_type": "markdown",
   "metadata": {},
   "source": [
    "### Pickle"
   ]
  },
  {
   "cell_type": "markdown",
   "metadata": {},
   "source": [
    "- __Blog:__  __Blog post URL:__ \"How to Pickle your Trained Model\"\n",
    "    - https://medium.com/@spettiett/how-to-pickle-your-trained-model-f4b7051babaa?source=friends_link&sk=dccb5c965557f0964b1e554ebfb183e6\n",
    "- __Published by:__ Sharonda Warner | Date: April 2020"
   ]
  },
  {
   "cell_type": "code",
   "execution_count": 16,
   "metadata": {
    "ExecuteTime": {
     "end_time": "2020-04-22T18:03:15.626612Z",
     "start_time": "2020-04-22T18:03:15.591617Z"
    }
   },
   "outputs": [
    {
     "name": "stdout",
     "output_type": "stream",
     "text": [
      "Capstone_Model_Prediction_Using_Tkinter Total Execution Time: 2:17:36.022307\n"
     ]
    }
   ],
   "source": [
    "end = datetime.datetime.now()\n",
    "elapsed_time = end - start\n",
    "print(f'Capstone_Model_Prediction_Using_Tkinter Total Execution Time: {elapsed_time}')"
   ]
  },
  {
   "cell_type": "markdown",
   "metadata": {},
   "source": [
    "# End Study"
   ]
  }
 ],
 "metadata": {
  "kernelspec": {
   "display_name": "Python [conda env:learn-env] *",
   "language": "python",
   "name": "conda-env-learn-env-py"
  },
  "language_info": {
   "codemirror_mode": {
    "name": "ipython",
    "version": 3
   },
   "file_extension": ".py",
   "mimetype": "text/x-python",
   "name": "python",
   "nbconvert_exporter": "python",
   "pygments_lexer": "ipython3",
   "version": "3.6.6"
  },
  "toc": {
   "base_numbering": 1,
   "nav_menu": {},
   "number_sections": true,
   "sideBar": true,
   "skip_h1_title": false,
   "title_cell": "Table of Contents",
   "title_sidebar": "Contents",
   "toc_cell": false,
   "toc_position": {
    "height": "calc(100% - 180px)",
    "left": "10px",
    "top": "150px",
    "width": "296.61px"
   },
   "toc_section_display": true,
   "toc_window_display": true
  },
  "varInspector": {
   "cols": {
    "lenName": 16,
    "lenType": 16,
    "lenVar": 40
   },
   "kernels_config": {
    "python": {
     "delete_cmd_postfix": "",
     "delete_cmd_prefix": "del ",
     "library": "var_list.py",
     "varRefreshCmd": "print(var_dic_list())"
    },
    "r": {
     "delete_cmd_postfix": ") ",
     "delete_cmd_prefix": "rm(",
     "library": "var_list.r",
     "varRefreshCmd": "cat(var_dic_list()) "
    }
   },
   "position": {
    "height": "578.996px",
    "left": "182.324px",
    "right": "20px",
    "top": "31.9962px",
    "width": "800px"
   },
   "types_to_exclude": [
    "module",
    "function",
    "builtin_function_or_method",
    "instance",
    "_Feature"
   ],
   "window_display": false
  }
 },
 "nbformat": 4,
 "nbformat_minor": 2
}

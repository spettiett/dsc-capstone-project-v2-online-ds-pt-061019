{
 "cells": [
  {
   "cell_type": "markdown",
   "metadata": {},
   "source": [
    "<IMG SRC=\"TOC_Image_Heading.png\" ALT=\"Capstone Project\">"
   ]
  },
  {
   "cell_type": "markdown",
   "metadata": {},
   "source": [
    "## Final Project Submission\n",
    "\n",
    "* __Student name:__ Sharonda Pettiett-Warner\n",
    "* __Student pace:__ part time - PT_0610\n",
    "* __Scheduled project review date/time:__ April 24, 2020\n",
    "* __Instructor name:__ Eli Thomas\n",
    "* __Blog post URL:__ \"How to Pickle your Trained Model\"\n",
    "    - https://medium.com/@spettiett/how-to-pickle-your-trained-model-f4b7051babaa?source=friends_link&sk=dccb5c965557f0964b1e554ebfb183e6"
   ]
  },
  {
   "cell_type": "markdown",
   "metadata": {},
   "source": [
    "## The Dataset\n",
    "\n",
    "- This data set contains a single file which compares various booking information between two hotels: a city hotel and a resort hotel.  This data set includes information such as when the booking was made, length of stay, the number of adults, children, and/or babies, and the number of available parking spaces, among other things."
   ]
  },
  {
   "cell_type": "markdown",
   "metadata": {
    "ExecuteTime": {
     "end_time": "2020-04-20T22:15:41.520923Z",
     "start_time": "2020-04-20T22:15:41.504927Z"
    }
   },
   "source": [
    "> __Feature Description__"
   ]
  },
  {
   "cell_type": "markdown",
   "metadata": {
    "ExecuteTime": {
     "end_time": "2020-04-24T01:55:41.593871Z",
     "start_time": "2020-04-24T01:55:41.581870Z"
    }
   },
   "source": [
    "<IMG SRC=\"TOC_Image_FeatDesc.png\" ALT=\"Feature Description\">"
   ]
  },
  {
   "cell_type": "markdown",
   "metadata": {},
   "source": [
    "## Acknowledgements\n",
    "\n",
    "- The hotel booking dataset from a kernel in Kaggle.\n",
    "- The data is originally from the article Hotel Booking Demand Datasets, written by Nuno Antonio, Ana Almeida, and Luis Nunes for Data in Brief, Volume 22, February 2019.\n"
   ]
  },
  {
   "cell_type": "markdown",
   "metadata": {},
   "source": [
    "# How to Navigate Jupyter Notebooks for Capstone Review"
   ]
  },
  {
   "cell_type": "markdown",
   "metadata": {},
   "source": [
    "> __Order of Navigation:__\n",
    "- __Part I   :__ Jupyter Notebook: __Capstone_EDA.ipynb__\n",
    "- __Part II  :__ Jupyter Notebook: __Capstone_Hypothesis Testing.ipynb__\n",
    "- __Part III :__ Jupyter Notebook: __Capstone_ML_Model - (Baseline and FeatEngr).ipynb__\n",
    "- __Part IV  :__ Jupyter Notebook: __Capstone_ML_Model (Final Prediction).ipynb__\n",
    "- __Part V   :__ Jupyter Notebook: __Capstone_Model_Prediction_Using_Tkinter.ipynb__(Demo)\n",
    "- __Part VI  :__ Jupyter Notebook: __Capstone_Time Series.ipynb__\n",
    "- __Part VII :__ Jupyter Notebook: __Capstone_Plotly_Graphs.ipynb__\n",
    "- __Part VIII:__ Jupyter Notebook: __Capstone_ML_Model(LazyPredict).ipynb__"
   ]
  },
  {
   "cell_type": "markdown",
   "metadata": {},
   "source": [
    "# Learning Concepts and Tools"
   ]
  },
  {
   "cell_type": "markdown",
   "metadata": {},
   "source": [
    "__Data Science Concepts Used:__\n",
    "- Machine Learning (ML)\n",
    "- Hypothesis Testing\n",
    "- Time Series\n",
    "- Data Visualization\n",
    "- Data Cleaning\n",
    "- Data Exploration\n",
    "- Feature Engineering\n",
    "\n",
    "__Tools Used:__\n",
    "- Tkinter is Python's de-facto standard GUI (Graphical User Interface) package.\n",
    "- Plotly's Python graphing library makes interactive, publication-quality graphs.\n",
    "- pickle — Python object serialization.\n",
    "\n",
    "__Machine Learning Models Used:__\n",
    "- GaussianNB\n",
    "- LogisticRegression \n",
    "- LinearDiscriminantAnalysis\n",
    "- KNeighborsClassifier\n",
    "- DecisionTreeClassifier\n",
    "- RandomForestClassifier\n",
    "- AdaBoostClassifier\n",
    "- GradientBoostingClassifier\n",
    "- XGBClassifier\n",
    "- LazyPredict Classifier"
   ]
  },
  {
   "cell_type": "markdown",
   "metadata": {},
   "source": [
    "# Capstone Overview"
   ]
  },
  {
   "cell_type": "markdown",
   "metadata": {},
   "source": [
    "## Project Motivation\n",
    "> As a person who loves to travel I was very curious to see if I could use my new found skills in data science to solve \"one of my biggest annoyances\" - __hotel overbooking__.  But, first I would need to understand some of the drivers that create this unpleasant experience for customers, like myself. So, this project will walk you through several data science concepts and tools to help you gain more insights on important features used to predict hotel booking demand."
   ]
  },
  {
   "attachments": {},
   "cell_type": "markdown",
   "metadata": {},
   "source": [
    "## Problem Statement\n",
    "- Reservations for resorts and hotels in __Lisbon, Portugal__ are experiencing __37%__ cancellations."
   ]
  },
  {
   "cell_type": "markdown",
   "metadata": {
    "ExecuteTime": {
     "end_time": "2020-04-24T02:02:23.738296Z",
     "start_time": "2020-04-24T02:02:23.730297Z"
    }
   },
   "source": [
    "<IMG SRC=\"./PPT_IMG/target_distribution_percnt.png\" ALT=\"Target Percent\">"
   ]
  },
  {
   "cell_type": "markdown",
   "metadata": {},
   "source": [
    "## Business Value\n",
    "> Equipped with more insightful information about __where, when, and why__ these cancellations are happening, a hotel’s revenue manager can make better informed decisions and improve overbooking strategies and cancellation policies.\n",
    "\n",
    "__Questions to answer from the data:__\n",
    "\n",
    "- Where do the guests come from?\n",
    "- How much do guests pay for a room per night?\n",
    "- Which are the most busy month?\n",
    "- Bookings by market segment\n",
    "- How many bookings were canceled?\n",
    "- Which month have the highest number of cancelations?\n",
    "- Which hotel has more cancelations?\n",
    "- Any difference in lead time?\n",
    "- Any difference in market segments?\n",
    "- How about distribution channels?\n",
    "- How about Month, Day, and Week Number?"
   ]
  },
  {
   "cell_type": "markdown",
   "metadata": {
    "ExecuteTime": {
     "end_time": "2020-04-24T02:04:32.061243Z",
     "start_time": "2020-04-24T02:04:32.054234Z"
    }
   },
   "source": [
    "<IMG SRC=\"./PPT_IMG/TOC_Image_PRT-1.png\" ALT=\"TOC_Image_PRT\">"
   ]
  },
  {
   "cell_type": "markdown",
   "metadata": {},
   "source": [
    "## Hypothesis Testing\n",
    "\n",
    "Hypothesis testing is a strong and very important statistical tool that enable us to test conventional knowledge using sample data. Most parametric testing assume normality, but thanks to the central limit theorem, it is possible to bypass this assumption with large enough samples. Moreover, a variation of the two sample t-test called __Welch’s t-test__ enables us to compare two sample means with unequal variances, which are the tests used to perform this study."
   ]
  },
  {
   "cell_type": "markdown",
   "metadata": {},
   "source": [
    "> This test was performed to answer the following question:\n",
    "- __Does booking far in advance increases the probability of cancellation?__ \n",
    "\n",
    "__Lead time__ is a feature in the dataset that significantly contributes to canceled reservations. Booking a reservation 7 days or more in advance increases the probability for a canceled reservation. \n",
    "\n",
    "__Cancellation Percentage:__ 0-6 days = 2.5 % more than 30 days  85%."
   ]
  },
  {
   "cell_type": "markdown",
   "metadata": {},
   "source": [
    "## Machine Learning Modeling\n",
    "To tackle the uncertainty arising from booking cancellations, we reviewed the data from booking information for a city hotel and a resort hotel which included information such as,  when the booking was made; length of stay; the number of adults children, and/or babies and the number of available parking spaces, among other things.  Then, I used machine learning algorithms to develop booking cancellation prediction models for the hotels. "
   ]
  },
  {
   "cell_type": "markdown",
   "metadata": {},
   "source": [
    "<IMG SRC=\"./PPT_IMG/TOC_Image_MLModels.png\" ALT=\"TOC_Image_MLModels\">"
   ]
  },
  {
   "attachments": {},
   "cell_type": "markdown",
   "metadata": {},
   "source": [
    "> __Best Model__ \n",
    "\n",
    "__Random Forest Classification__ have the “highest” scoring metrics:\n",
    "\n",
    "- __Test Accuracy Score: 0.877677  |   Train Accuracy Score: 0.939452__\n",
    "- __Accuracy Score:__ 0.8776766335158249   \n",
    "- __Precision Score:__ 0.8693262411347518  \n",
    "- __roc_auc_score:__ 0.8656552631067826 "
   ]
  },
  {
   "cell_type": "markdown",
   "metadata": {},
   "source": [
    "> __Most Predictive Features__\n",
    "\n",
    "From our analysis, we concluded that the most useful features for prediction were the following features (Top 15):\n",
    "\n",
    "- lead_time                        0.116716\n",
    "- deposit_type_Non Refund          0.108665\n",
    "- country_PRT                      0.080293\n",
    "- adr                              0.078294\n",
    "- total_of_special_requests        0.069174\n",
    "- arrival_date_day_of_month        0.056989\n",
    "- agent                            0.051549\n",
    "- arrival_date_week_number         0.048732\n",
    "- stays_in_week_nights             0.037315\n",
    "- previous_cancellations           0.030105\n",
    "- stays_in_weekend_nights          0.025514\n",
    "- arrival_date_year                0.024081\n",
    "- required_car_parking_spaces      0.020868\n",
    "- market_segment_Online TA         0.020407\n",
    "- customer_type_Transient          0.019232"
   ]
  },
  {
   "attachments": {},
   "cell_type": "markdown",
   "metadata": {},
   "source": [
    "## Demonstration - Model Prediction (GUI)\n",
    "To simulate a real production environment using of the models Random Forest Classifier, I built a Graphical User Interface (GUI) using Python - Tkinker to capture user input related to hotel booking key features to perform a prediction as either Booked or Canceled along with the prediction probability. Having an application, such as this, could help to enable hoteliers to decrease the number of cancellations, thus, increasing confidence in demand-management decisions. \n"
   ]
  },
  {
   "cell_type": "markdown",
   "metadata": {
    "ExecuteTime": {
     "end_time": "2020-04-24T02:06:29.701239Z",
     "start_time": "2020-04-24T02:06:29.695236Z"
    }
   },
   "source": [
    "<IMG SRC=\"./PPT_IMG/TOC_Image_GUI.png\" ALT=\"TOC_Image_GUI\">"
   ]
  },
  {
   "cell_type": "markdown",
   "metadata": {},
   "source": [
    "## Time Series\n",
    "> Another key component, was to improvement the forecast accuracy. So, a time series model was built to help predict number of cancellations in the future.\n",
    "\n",
    "__SARIMAX(2,2,1)x(1, 1, 0, 52)__ yields the \"lowest\" __AIC value of 422.779__. Therefore, we considered this to be optimal option out of all the models we have considered and the \"p-values\" __(P>|z|) 0.000 < .05__."
   ]
  },
  {
   "attachments": {},
   "cell_type": "markdown",
   "metadata": {},
   "source": [
    "__Real vs Predicted values along with confidence interval__"
   ]
  },
  {
   "cell_type": "markdown",
   "metadata": {
    "ExecuteTime": {
     "end_time": "2020-04-24T02:08:34.972259Z",
     "start_time": "2020-04-24T02:08:34.965254Z"
    }
   },
   "source": [
    "<IMG SRC=\"./PPT_IMG/TOC_Image_TimeSeries-1.png\" ALT=\"TOC_Image_TimeSeries-1\">"
   ]
  },
  {
   "cell_type": "markdown",
   "metadata": {},
   "source": [
    "__Model Evaluation Scores__\n",
    "- Mean squared error: 211.47669613545847\n",
    "- Mean absolute error: 11.843198228847259\n",
    "- RMSE: 14.542238346810937"
   ]
  },
  {
   "attachments": {},
   "cell_type": "markdown",
   "metadata": {},
   "source": [
    "__Performing Predictons in the future__"
   ]
  },
  {
   "cell_type": "markdown",
   "metadata": {
    "ExecuteTime": {
     "end_time": "2020-04-24T02:07:57.930495Z",
     "start_time": "2020-04-24T02:07:57.923494Z"
    }
   },
   "source": [
    "<IMG SRC=\"./PPT_IMG/TOC_Image_TimeSeries-2.png\" ALT=\"TOC_Image_TimeSeries-2\">"
   ]
  },
  {
   "cell_type": "markdown",
   "metadata": {},
   "source": [
    "- RMSE value ≥0.5 reflects the poor ability of the model to accurately predict the data, in this case RMSE: 14.54 from One-step Ahead Forecasting.\n",
    "- This time series has low-volume count data (less than 3 years of data); having MORE data could greatly improve the forecasting."
   ]
  },
  {
   "cell_type": "markdown",
   "metadata": {},
   "source": [
    "# Capstone Conclusions"
   ]
  },
  {
   "cell_type": "markdown",
   "metadata": {},
   "source": [
    "> By exposing cancellation drivers, machine learning models can help hoteliers to better understand booking cancellation patterns and enable the adjustment of a hotel’s cancellation policies and overbooking tactics according to the characteristics of its bookings.\n",
    "Moreover, this work shows that if hotel managers had access to an application (GUI) then they could act on bookings with high cancellation probability and contain the associated revenue losses.  Leading to other benefits, such as, improve overbooking/cancellation policies, and have more assertive pricing and staffing allocation strategies."
   ]
  },
  {
   "cell_type": "markdown",
   "metadata": {
    "ExecuteTime": {
     "end_time": "2020-04-24T02:07:19.458802Z",
     "start_time": "2020-04-24T02:07:19.450819Z"
    }
   },
   "source": [
    "<IMG SRC=\"./TOC_Image_Thankyou.png\" ALT=\"TOC_Image_Thankyou\">"
   ]
  }
 ],
 "metadata": {
  "kernelspec": {
   "display_name": "Python [conda env:learn-env] *",
   "language": "python",
   "name": "conda-env-learn-env-py"
  },
  "language_info": {
   "codemirror_mode": {
    "name": "ipython",
    "version": 3
   },
   "file_extension": ".py",
   "mimetype": "text/x-python",
   "name": "python",
   "nbconvert_exporter": "python",
   "pygments_lexer": "ipython3",
   "version": "3.6.6"
  },
  "toc": {
   "base_numbering": 1,
   "nav_menu": {
    "height": "292px",
    "width": "218px"
   },
   "number_sections": true,
   "sideBar": true,
   "skip_h1_title": false,
   "title_cell": "Table of Contents",
   "title_sidebar": "Contents",
   "toc_cell": false,
   "toc_position": {},
   "toc_section_display": true,
   "toc_window_display": true
  },
  "varInspector": {
   "cols": {
    "lenName": 16,
    "lenType": 16,
    "lenVar": 40
   },
   "kernels_config": {
    "python": {
     "delete_cmd_postfix": "",
     "delete_cmd_prefix": "del ",
     "library": "var_list.py",
     "varRefreshCmd": "print(var_dic_list())"
    },
    "r": {
     "delete_cmd_postfix": ") ",
     "delete_cmd_prefix": "rm(",
     "library": "var_list.r",
     "varRefreshCmd": "cat(var_dic_list()) "
    }
   },
   "types_to_exclude": [
    "module",
    "function",
    "builtin_function_or_method",
    "instance",
    "_Feature"
   ],
   "window_display": false
  }
 },
 "nbformat": 4,
 "nbformat_minor": 2
}
